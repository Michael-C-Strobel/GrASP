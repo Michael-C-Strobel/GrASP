{
 "cells": [
  {
   "cell_type": "code",
   "execution_count": 1,
   "id": "bf5548f6-5acf-4ecc-bd8d-cfa366ec7734",
   "metadata": {},
   "outputs": [],
   "source": [
    "import numpy as np\n",
    "import MDAnalysis as mda\n",
    "from sklearn.cluster import MeanShift\n",
    "from sklearn.cluster import estimate_bandwidth\n",
    "from scipy.spatial import ConvexHull, HalfspaceIntersection\n",
    "from scipy.optimize import linprog"
   ]
  },
  {
   "cell_type": "code",
   "execution_count": 2,
   "id": "a48ed3fe-eaea-46ca-a3df-6533bc696801",
   "metadata": {},
   "outputs": [],
   "source": [
    "def sort_clusters(cluster_ids, probs, labels):\n",
    "    c_probs = []\n",
    "    unique_ids = np.unique(cluster_ids)\n",
    "\n",
    "    for c_id in unique_ids[unique_ids >= 0]:\n",
    "        c_prob = np.mean(probs[:,1][labels][cluster_ids==c_id])\n",
    "        c_probs.append(c_prob)\n",
    "\n",
    "    c_order = np.argsort(c_probs)\n",
    "\n",
    "    sorted_ids = -1*np.ones(cluster_ids.shape)\n",
    "    for new_c in range(len(c_order)):\n",
    "        old_c = c_order[new_c]\n",
    "        sorted_ids[cluster_ids == old_c] = new_c\n",
    "        \n",
    "    return sorted_ids"
   ]
  },
  {
   "cell_type": "code",
   "execution_count": 3,
   "id": "a702e40d-2f6a-4d45-9570-82c8257f4b4d",
   "metadata": {},
   "outputs": [],
   "source": [
    "def cluster_atoms(all_coords, predicted_probs, threshold=.5, quantile=.3, **kwargs):\n",
    "    predicted_labels = predicted_probs[:,1] > threshold\n",
    "    bind_coords = all_coords[predicted_labels]\n",
    "    bw = estimate_bandwidth(bind_coords, quantile=quantile)\n",
    "    ms_clustering = MeanShift(bandwidth=bw, **kwargs).fit(bind_coords)\n",
    "    cluster_ids = ms_clustering.labels_\n",
    "    \n",
    "    sorted_ids = sort_clusters(cluster_ids, predicted_probs, predicted_labels)\n",
    "\n",
    "    all_ids = -1*np.ones(predicted_labels.shape)\n",
    "    all_ids[predicted_labels] = sorted_ids\n",
    "    \n",
    "    return bind_coords, sorted_ids, all_ids"
   ]
  },
  {
   "cell_type": "code",
   "execution_count": 4,
   "id": "d656ec1e-306c-4de1-bf9c-1b10e62c1777",
   "metadata": {},
   "outputs": [],
   "source": [
    "def get_centroid(coords):\n",
    "    return np.mean(coords, axis=0)"
   ]
  },
  {
   "cell_type": "code",
   "execution_count": 5,
   "id": "b41439a1-3694-4a71-9d31-86382dbb5f5d",
   "metadata": {},
   "outputs": [],
   "source": [
    "def center_dist(site_points1, site_points2):\n",
    "    centroid1 = get_centroid(site_points1)\n",
    "    centroid2 = get_centroid(site_points2)\n",
    "    distance = np.sqrt(np.sum((centroid1 - centroid2)**2))\n",
    "    \n",
    "    return distance"
   ]
  },
  {
   "cell_type": "code",
   "execution_count": 6,
   "id": "2e88a9c2-3c2b-4b15-baae-d4e5ee8d480e",
   "metadata": {},
   "outputs": [],
   "source": [
    "def cheb_center(halfspaces):\n",
    "    norm_vector = np.reshape(np.linalg.norm(halfspaces[:, :-1], axis=1),\n",
    "    (halfspaces.shape[0], 1))\n",
    "    c = np.zeros((halfspaces.shape[1],))\n",
    "    c[-1] = -1\n",
    "    A = np.hstack((halfspaces[:, :-1], norm_vector))\n",
    "    b = - halfspaces[:, -1:]\n",
    "    res = linprog(c, A_ub=A, b_ub=b, bounds=(None, None))\n",
    "    center = res.x[:-1]\n",
    "    radius = res.x[-1]\n",
    "    \n",
    "    return center, radius"
   ]
  },
  {
   "cell_type": "code",
   "execution_count": 7,
   "id": "fd348161-f2c3-4e7f-b052-8e0e0056b546",
   "metadata": {},
   "outputs": [],
   "source": [
    "def hull_jaccard(hull1, hull2, intersect_hull):\n",
    "    intersect_vol = intersect_hull.volume\n",
    "    union_vol = hull1.volume + hull2.volume - intersect_hull.volume\n",
    "    return intersect_vol/union_vol"
   ]
  },
  {
   "cell_type": "code",
   "execution_count": 8,
   "id": "f350ccda-9aed-4b11-8d34-ea473855d935",
   "metadata": {},
   "outputs": [],
   "source": [
    "def volumetric_overlap(site_points1, site_points2):\n",
    "    hull1 = ConvexHull(site_points1)\n",
    "    hull2 = ConvexHull(site_points2)\n",
    "    \n",
    "    halfspaces = np.append(hull1.equations, hull2.equations, axis=0)\n",
    "    center, radius = cheb_center(halfspaces)\n",
    "    \n",
    "    if radius <= 0:\n",
    "        return 0\n",
    "\n",
    "    half_inter = HalfspaceIntersection(halfspaces, center)\n",
    "    intersect_hull = ConvexHull(half_inter.intersections)\n",
    "    \n",
    "    jaccard = hull_jaccard(hull1, hull2, intersect_hull)\n",
    "    \n",
    "    return jaccard"
   ]
  },
  {
   "cell_type": "code",
   "execution_count": 10,
   "id": "ff58dbae-a6b9-4cfd-a0ac-8bb79428ef93",
   "metadata": {},
   "outputs": [
    {
     "ename": "IndentationError",
     "evalue": "unindent does not match any outer indentation level (<tokenize>, line 35)",
     "output_type": "error",
     "traceback": [
      "\u001b[0;36m  File \u001b[0;32m\"<tokenize>\"\u001b[0;36m, line \u001b[0;32m35\u001b[0m\n\u001b[0;31m    bind_coords, sorted_ids, all_ids = cluster_atoms(all_coords, predicted_probs, threshold=threshold, quantile=quantile, cluster_all=cluster_all)\u001b[0m\n\u001b[0m    ^\u001b[0m\n\u001b[0;31mIndentationError\u001b[0m\u001b[0;31m:\u001b[0m unindent does not match any outer indentation level\n"
     ]
    }
   ],
   "source": [
    "def site_metrics(all_coords, predicted_probs, true_labels, threshold=.5, quantile=.3, cluster_all=False):\n",
    "        \"\"\"Cluster binding sites and calculate distance from true site center and volumetric overlap with true site \n",
    "        \n",
    "        Parameters\n",
    "        ----------\n",
    "        all_coords : numpy array\n",
    "            Protein atomic coordinates.\n",
    "            \n",
    "        predicted_probs : numpy_array\n",
    "            Class probabilities for not site in column 0 and site in column 1.\n",
    "            \n",
    "        true_labels : numpy_array\n",
    "            Class membership, 0 for not site, 1 for site.\n",
    "            \n",
    "        threshold : float\n",
    "            Probability threshold to predict binding site atoms.\n",
    "            \n",
    "        quantile : float\n",
    "            Quantile used in bandwidth selection for mean shift clustering.\n",
    "            \n",
    "        cluster_all : bool\n",
    "            Whether to assign points outside kernels to the nearest cluster or leave them unlabeled.\n",
    "            \n",
    "        Returns\n",
    "        -------\n",
    "        center_distances: list\n",
    "            List of distances from predicted site center to true center. \n",
    "            Listed in descending order by predicted site probability.\n",
    "            \n",
    "        volumentric_overlaps: list\n",
    "            Jaccard similarity between predicted site convex hull and true site convex hull. \n",
    "            Listed in descending order by predicted site probability.\n",
    "            \n",
    "        \"\"\"\n",
    "    bind_coords, sorted_ids, all_ids = cluster_atoms(all_coords, predicted_probs, threshold=threshold, quantile=quantile, cluster_all=cluster_all)\n",
    "\n",
    "\n",
    "    true_points = all_coords[true_labels==1]\n",
    "\n",
    "    center_distances = []\n",
    "    volumetric_overlaps = []\n",
    "    for c_id in np.unique(sorted_ids)[::-1]:\n",
    "        if c_id >= 0:\n",
    "            predicted_points = bind_coords[sorted_ids == c_id]\n",
    "            center_distances.append(center_dist(predicted_points, true_points))\n",
    "            volumetric_overlaps.append(volumetric_overlap(predicted_points, true_points))\n",
    "\n",
    "    return center_distances, volumetric_overlaps"
   ]
  },
  {
   "cell_type": "code",
   "execution_count": null,
   "id": "bdfb6584-bc14-4c32-901c-b3354dc4c948",
   "metadata": {},
   "outputs": [],
   "source": [
    "sys = '3eky_1'\n",
    "\n",
    "mol2_file = f'{sys}/{sys}.mol2'\n",
    "prob_file = f'{sys}/{sys}.npy'\n",
    "true_file = f'{sys}/{sys}_true.npy'\n",
    "\n",
    "univ = mda.Universe(mol2_file)\n",
    "predicted_probs = np.load(prob_file)\n",
    "true_labels = np.load(true_file)\n",
    "    \n",
    "\n",
    "all_coords = univ.atoms.positions\n",
    "\n",
    "site_metrics(all_coords, predicted_probs, true_labels)"
   ]
  },
  {
   "cell_type": "code",
   "execution_count": null,
   "id": "ee5424d9-1730-4cfe-857b-7002e7fb843c",
   "metadata": {},
   "outputs": [],
   "source": []
  }
 ],
 "metadata": {
  "kernelspec": {
   "display_name": "Python [conda env:MDAnalysis]",
   "language": "python",
   "name": "conda-env-MDAnalysis-py"
  },
  "language_info": {
   "codemirror_mode": {
    "name": "ipython",
    "version": 3
   },
   "file_extension": ".py",
   "mimetype": "text/x-python",
   "name": "python",
   "nbconvert_exporter": "python",
   "pygments_lexer": "ipython3",
   "version": "3.8.12"
  }
 },
 "nbformat": 4,
 "nbformat_minor": 5
}
